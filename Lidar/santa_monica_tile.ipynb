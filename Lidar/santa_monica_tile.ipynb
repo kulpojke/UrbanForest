{
 "cells": [
  {
   "cell_type": "code",
   "execution_count": 2,
   "metadata": {},
   "outputs": [
    {
     "data": {
      "text/plain": [
       "16"
      ]
     },
     "execution_count": 2,
     "metadata": {},
     "output_type": "execute_result"
    }
   ],
   "source": [
    "import multiprocessing\n",
    "multiprocessing.cpu_count()"
   ]
  },
  {
   "cell_type": "code",
   "execution_count": 3,
   "metadata": {},
   "outputs": [
    {
     "data": {
      "text/plain": [
       "'1.20.0'"
      ]
     },
     "execution_count": 3,
     "metadata": {},
     "output_type": "execute_result"
    }
   ],
   "source": [
    "import numpy as np\n",
    "np.version.version"
   ]
  },
  {
   "cell_type": "code",
   "execution_count": 4,
   "metadata": {},
   "outputs": [],
   "source": [
    "from osgeo import osr\n",
    "import pdal\n",
    "from string import Template\n",
    "#import numpy as np"
   ]
  },
  {
   "cell_type": "markdown",
   "metadata": {},
   "source": [
    "In the pipeline below we select 35m as the limit on ```HeightAboveGround``` because it is a reasonable value and it is the 0.999 quantile on a tif made with no limit."
   ]
  },
  {
   "cell_type": "code",
   "execution_count": 5,
   "metadata": {},
   "outputs": [],
   "source": [
    "def make_pipe(bbox, chm_path, srs='EPSG:3857'):\n",
    "    '''Creates, validates and then returns the pdal pipeline\n",
    "    \n",
    "    Arguments:\n",
    "    bbox     -- Bounding box in srs coordintes (default srs is EPSG:3857),\n",
    "                in the form: ([xmin, xmax], [ymin, ymax]).\n",
    "    chm_path -- String - Path where the CHM shall be saved. Must include .tif exstension.\n",
    "    srs      -- String - EPSG identifier for srs  being used. Defaults to EPSG:3857\n",
    "                because that is what ept files tend to use.\n",
    "    '''\n",
    "    \n",
    "    t = Template('''\n",
    "    {\n",
    "        \"pipeline\": [\n",
    "            {\n",
    "            \"bounds\": \"${scaled_bbox}\",\n",
    "            \"filename\": \"https://s3-us-west-2.amazonaws.com/usgs-lidar-public/USGS_LPC_CA_LosAngeles_2016_LAS_2018/ept.json\",\n",
    "            \"type\": \"readers.ept\",\n",
    "            \"tag\": \"readdata\",\n",
    "            \"spatialreference\":\"${srs}\"\n",
    "            },\n",
    "            {\n",
    "            \"type\":\"filters.outlier\",\n",
    "            \"method\":\"radius\",\n",
    "            \"radius\":1.0,\n",
    "            \"min_k\":4\n",
    "            },\n",
    "            {\n",
    "            \"type\":\"filters.range\",\n",
    "            \"limits\":\"returnnumber[1:1]\"\n",
    "            },\n",
    "            {\n",
    "            \"type\": \"filters.reprojection\",\n",
    "            \"in_srs\":\"${srs}\",\n",
    "            \"out_srs\": \"EPSG:26911\"\n",
    "            },\n",
    "            {\n",
    "            \"type\":\"filters.smrf\",\n",
    "            \"scalar\":1.2,\n",
    "            \"slope\":0.2,\n",
    "            \"threshold\":0.45,\n",
    "            \"window\":16.0\n",
    "            },\n",
    "            {\n",
    "            \"type\":\"filters.hag_delaunay\"\n",
    "            },\n",
    "            {\n",
    "            \"type\":\"filters.range\",\n",
    "            \"limits\":\"HeightAboveGround[0:35]\"\n",
    "            },\n",
    "            {\n",
    "            \"filename\": \"${chm_path}\",\n",
    "            \"gdalopts\": \"tiled=yes,     compress=deflate\",\n",
    "            \"nodata\": -9999,\n",
    "            \"output_type\": \"idw\",\n",
    "            \"resolution\": 1,\n",
    "            \"type\": \"writers.gdal\",\n",
    "            \"window_size\": 6,\n",
    "            \"dimension\": \"HeightAboveGround\"\n",
    "            }\n",
    "        ]\n",
    "    }''')\n",
    "\n",
    "    pipe = t.substitute(scaled_bbox=bbox, srs=srs, chm_path=chm_path)\n",
    "    pipeline = pdal.Pipeline(pipe)\n",
    "    if pipeline.validate():\n",
    "        return(pipeline)\n",
    "    else:\n",
    "        raise Exception('Bad pipeline (sorry to be so ambigous)!')"
   ]
  },
  {
   "cell_type": "code",
   "execution_count": 6,
   "metadata": {},
   "outputs": [],
   "source": [
    "xmin = -118.51765140181836\n",
    "ymin = 33.995146776023624\n",
    "xmax = -118.44351271585195\n",
    "ymax = 34.050617079693275\n",
    "\n",
    "# define transform from EPSG:4326 to EPSG:3857\n",
    "old_crs = osr.SpatialReference() \n",
    "old_crs.ImportFromEPSG(4326) \n",
    "new_crs = osr.SpatialReference() \n",
    "new_crs.ImportFromEPSG(3857)\n",
    "transform = osr.CoordinateTransformation(old_crs,new_crs)\n",
    "\n",
    "# transform bbox points\n",
    "xmin, ymin, zmin = transform.TransformPoint(ymin, xmin)\n",
    "xmax, ymax, zmax = transform.TransformPoint(ymax, xmax)\n",
    "\n",
    "#make tiles\n",
    "n = 10\n",
    "dx = abs(xmin - xmax) / n\n",
    "dy = abs(ymin - ymax) / n\n",
    "\n",
    "\n"
   ]
  },
  {
   "cell_type": "code",
   "execution_count": 7,
   "metadata": {},
   "outputs": [],
   "source": [
    "\n",
    "\n",
    "x = xmin\n",
    "xs = []\n",
    "while x < xmax:\n",
    "    xs.append([x, x + dx])\n",
    "    x = x + dx\n",
    "if x < xmax:\n",
    "    xs.append([x, xmax])\n",
    "\n",
    "y = ymin\n",
    "ys = []\n",
    "while y < ymax:\n",
    "    ys.append([y, y + dy])\n",
    "    y = y + dy\n",
    "if y < ymax:\n",
    "    ys.append([y, ymax])\n",
    "\n",
    "    \n",
    "bxs = []\n",
    "for x in xs:\n",
    "    for y in ys:\n",
    "        bbox = (x, y)\n",
    "        bxs.append(bbox)\n",
    "\n"
   ]
  },
  {
   "cell_type": "code",
   "execution_count": 8,
   "metadata": {},
   "outputs": [],
   "source": [
    "from dask import delayed, compute\n",
    "from dask.diagnostics import ProgressBar\n",
    "import os"
   ]
  },
  {
   "cell_type": "code",
   "execution_count": 9,
   "metadata": {},
   "outputs": [
    {
     "name": "stdout",
     "output_type": "stream",
     "text": [
      "[                                        ] | 0% Completed |  0.7sThis happened All points collinear on the bbox ([-13190023.371757178, -13189198.06368019], [4034110.627024999, 4034855.65848512])\n",
      "This happened All points collinear on the bbox ([-13192499.295988139, -13191673.987911152], [4034110.627024999, 4034855.65848512])\n",
      "[#                                       ] | 3% Completed |  7min  1.0sThis happened writers.gdal: Grid width or height is too large. Width and height are limited to 2147483647 cells.Try setting bounds or increasing resolution. on the bbox ([-13192499.295988139, -13191673.987911152], [4028150.3753440287, 4028895.40680415])\n",
      "[###############                         ] | 38% Completed | 58min 34.9sThis happened writers.gdal: Grid width or height is too large. Width and height are limited to 2147483647 cells.Try setting bounds or increasing resolution. on the bbox ([-13193324.604065126, -13192499.295988139], [4028895.40680415, 4029640.4382642712])\n",
      "[################                        ] | 41% Completed |  1hr  1min 46.7sThis happened All points collinear on the bbox ([-13191673.987911152, -13190848.679834165], [4034110.627024999, 4034855.65848512])\n",
      "[##################                      ] | 45% Completed |  1hr  7min  1.0sThis happened writers.gdal: Grid width or height is too large. Width and height are limited to 2147483647 cells.Try setting bounds or increasing resolution. on the bbox ([-13193324.604065126, -13192499.295988139], [4028150.3753440287, 4028895.40680415])\n",
      "[######################                  ] | 56% Completed |  1hr 25min 31.0sThis happened All points collinear on the bbox ([-13190848.679834165, -13190023.371757178], [4031130.501184514, 4031875.532644635])\n",
      "[########################                ] | 61% Completed |  1hr 30min 52.9sThis happened All points collinear on the bbox ([-13193324.604065126, -13192499.295988139], [4034855.65848512, 4035600.6899452414])\n",
      "[############################            ] | 70% Completed |  1hr 44min 29.6sThis happened All points collinear on the bbox ([-13190848.679834165, -13190023.371757178], [4034855.65848512, 4035600.6899452414])\n",
      "[########################################] | 100% Completed |  2hr 26min 24.1s\n"
     ]
    }
   ],
   "source": [
    "@delayed\n",
    "def tilez(i, bbox):\n",
    "    chm_path = f'{tmp}/chm{i}.tif'\n",
    "    pipeline = make_pipe(bbox, chm_path)\n",
    "    try:\n",
    "        count = pipeline.execute()\n",
    "    except RuntimeError as e:\n",
    "        print(f'This happened --{e}-- on the bbox {bbox}')\n",
    "    except Exception as e:\n",
    "        print(f'pipeline failed on this {bbox} due to \\n{e}')\n",
    "    \n",
    "    \n",
    "\n",
    "# make a variable for its path\n",
    "home = os.path.expanduser('~')\n",
    "tmp = f'{home}/tmp'\n",
    "    \n",
    "results = []\n",
    "for i, bbox in enumerate(bxs):\n",
    "    results.append(tilez(i, bbox))\n",
    "\n",
    "with ProgressBar():\n",
    "    computed_results = compute(*results)"
   ]
  },
  {
   "cell_type": "code",
   "execution_count": 10,
   "metadata": {},
   "outputs": [],
   "source": [
    "import gdal\n",
    "files = [tmp + '/' + f for f in os.listdir(tmp) if f.endswith('.tif')]\n",
    "vrt = gdal.BuildVRT(f'{tmp}/santa_monica_chm.vrt', files)\n",
    "mosaic_sMonica = gdal.Translate(f'{tmp}/santa_monica_mosaic.tiff', vrt)"
   ]
  },
  {
   "cell_type": "code",
   "execution_count": 11,
   "metadata": {},
   "outputs": [],
   "source": [
    "import rasterio as rio\n",
    "import matplotlib.pyplot as plt"
   ]
  },
  {
   "cell_type": "code",
   "execution_count": 12,
   "metadata": {},
   "outputs": [],
   "source": [
    "with rio.open(f'{tmp}/santa_monica_mosaic.tiff') as tif:\n",
    "    arr = tif.read()\n",
    " "
   ]
  },
  {
   "cell_type": "code",
   "execution_count": 13,
   "metadata": {},
   "outputs": [
    {
     "data": {
      "image/png": "[encoded data removed]",
      "text/plain": [
       "<Figure size 432x288 with 1 Axes>"
      ]
     },
     "metadata": {
      "needs_background": "light"
     },
     "output_type": "display_data"
    }
   ],
   "source": [
    "plt.hist(arr[arr>=0], bins=100);"
   ]
  },
  {
   "cell_type": "code",
   "execution_count": 14,
   "metadata": {},
   "outputs": [
    {
     "data": {
      "text/plain": [
       "25.101731953291043"
      ]
     },
     "execution_count": 14,
     "metadata": {},
     "output_type": "execute_result"
    }
   ],
   "source": [
    "np.quantile(arr, 0.999)"
   ]
  },
  {
   "cell_type": "code",
   "execution_count": null,
   "metadata": {},
   "outputs": [],
   "source": []
  }
 ],
 "metadata": {
  "kernelspec": {
   "display_name": "Python 3",
   "language": "python",
   "name": "python3"
  },
  "language_info": {
   "codemirror_mode": {
    "name": "ipython",
    "version": 3
   },
   "file_extension": ".py",
   "mimetype": "text/x-python",
   "name": "python",
   "nbconvert_exporter": "python",
   "pygments_lexer": "ipython3",
   "version": "3.8.6"
  }
 },
 "nbformat": 4,
 "nbformat_minor": 4
}
