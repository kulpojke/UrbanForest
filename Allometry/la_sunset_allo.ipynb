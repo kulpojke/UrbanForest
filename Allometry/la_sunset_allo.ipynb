{
 "cells": [
  {
   "cell_type": "code",
   "execution_count": 1,
   "metadata": {},
   "outputs": [
    {
     "data": {
      "text/plain": [
       "16"
      ]
     },
     "execution_count": 1,
     "metadata": {},
     "output_type": "execute_result"
    }
   ],
   "source": [
    "import multiprocessing\n",
    "import pandas as pd\n",
    "import numpy as np\n",
    "import scipy.stats as sc\n",
    "import matplotlib.pyplot as plt\n",
    "import seaborn as sns\n",
    "from matplotlib.collections import PatchCollection\n",
    "import dask.dataframe as dd\n",
    "import os\n",
    "\n",
    "multiprocessing.cpu_count()"
   ]
  },
  {
   "cell_type": "markdown",
   "metadata": {},
   "source": [
    "## Reading tree data, allometric equations, etc... ##\n",
    "Read in the data and clean it up"
   ]
  },
  {
   "cell_type": "code",
   "execution_count": 2,
   "metadata": {},
   "outputs": [],
   "source": [
    "# path to file\n",
    "home = os.path.expanduser('~')\n",
    "path = f'{home}/UrbanForest/all_clean_LAcounty_sunset.hdf'\n",
    "\n",
    "# read the hdf\n",
    "la = pd.read_hdf(path, key='data')\n",
    "\n",
    "# select desired columns\n",
    "cols=['ID', 'LATITUDE', 'LONGITUDE', 'DBH_LO', 'DBH_HI', 'CREATED',\n",
    "      'UPDATED', 'SOURCE', 'Name_matched', 'Zone']\n",
    "la = la[cols]\n",
    "\n",
    "# drop NAs\n",
    "la.dropna(how='any', axis=0, subset=['DBH_LO', 'DBH_HI'], inplace=True)\n",
    "\n",
    "# capitalize genus names\n",
    "la['Name_matched'] = la.Name_matched.str.capitalize()\n",
    "\n",
    "# convert DBH to cm\n",
    "la['dbh_low']  = 2.54 * la.DBH_LO\n",
    "la['dbh_high'] = 2.54 * la.DBH_HI\n",
    "la.drop(['DBH_LO', 'DBH_HI'], axis=1, inplace=True)\n",
    "\n",
    "# Change date fields to dateTime type\n",
    "la['created'] = pd.to_datetime(la.CREATED)\n",
    "la['updated'] = pd.to_datetime(la.UPDATED)\n",
    "la.drop(['CREATED', 'UPDATED'], axis=1, inplace=True)\n"
   ]
  },
  {
   "cell_type": "markdown",
   "metadata": {},
   "source": [
    " We will first use allometric equations from :\n",
    "\n",
    " McPherson, E. Gregory; van Doorn, Natalie S.; Peper, Paula J. 2016. Urban tree database.\n",
    " Fort Collins, CO: Forest Service Research Data Archive. Updated 21 January 2020.\n",
    " https://doi.org/10.2737/RDS-2016-0005\n",
    "\n",
    " 'Apps min' and 'Apps max' give the input range (cm) that the authors feel \n",
    "  that the equations are reliable\n",
    " 'InlEmp' and 'SoCalC' are Climate zones where the eqs are different.\n",
    "  SoCalC reference city is Santa Monica, InlEmp is Claremont,\n",
    "  see Table 1, p16 for further Climate zone details.  \n",
    "  \n",
    "  After reading the equations and coefficients, we will get rid of trees that only occur a few times, and trees that we o not have equations for."
   ]
  },
  {
   "cell_type": "code",
   "execution_count": 3,
   "metadata": {},
   "outputs": [
    {
     "name": "stdout",
     "output_type": "stream",
     "text": [
      "<class 'pandas.core.frame.DataFrame'>\n",
      "Int64Index: 664155 entries, 0 to 1089845\n",
      "Data columns (total 10 columns):\n",
      " #   Column        Non-Null Count   Dtype         \n",
      "---  ------        --------------   -----         \n",
      " 0   ID            664155 non-null  int64         \n",
      " 1   LATITUDE      664155 non-null  float64       \n",
      " 2   LONGITUDE     664155 non-null  float64       \n",
      " 3   SOURCE        664155 non-null  object        \n",
      " 4   Name_matched  664155 non-null  object        \n",
      " 5   Zone          663384 non-null  float64       \n",
      " 6   dbh_low       664155 non-null  float64       \n",
      " 7   dbh_high      664155 non-null  float64       \n",
      " 8   created       28472 non-null   datetime64[ns]\n",
      " 9   updated       28472 non-null   datetime64[ns]\n",
      "dtypes: datetime64[ns](2), float64(5), int64(1), object(2)\n",
      "memory usage: 55.7+ MB\n"
     ]
    }
   ],
   "source": [
    "# The equations\n",
    "def mcpherson_eqs():\n",
    "    '''returns dict of equations from table 3 (p24) of McPherson 2020\n",
    "    functions use np so as to be vectorized'''\n",
    "\n",
    "    eq_dict = {'lin'        : (lambda a, b, c, d, e, x, mse: a + b * (x)), \n",
    "                'quad'      : (lambda a, b, c, d, e, x, mse: a + b * x + c * x**2),\n",
    "                'cub'      : (lambda a, b, c, d, e, x, mse: a + b * x + c * x**2 + d * x**3),\n",
    "                'quart'     : (lambda a, b, c, d, e, x, mse:a + b * x + c *x**2 + d * x**3 + e * x**4), \n",
    "                'loglogw1' : (lambda a, b, c, d, e, x, mse: np.exp(a + b * np.log(np.log(x + 1) + (mse/2)))),\n",
    "                'loglogw2' : (lambda a, b, c, d, e, x, mse: np.exp(a + b * np.log(np.log(x + 1)) + (np.sqrt(x) + (mse/2)))),\n",
    "                'loglogw3' : (lambda a, b, c, d, e, x, mse: np.exp(a + b * np.log(np.log(x + 1)) + (x) + (mse/2))),\n",
    "                'loglogw4' : (lambda a, b, c, d, e, x, mse: np.exp(a + b * np.log(np.log(x + 1)) + (x**2) + (mse/2))),\n",
    "                'expow1'    : (lambda a, b, c, d, e, x, mse: np.exp(a+ b * (x) + (mse/2))),\n",
    "                'expow2'    : (lambda a, b, c, d, e, x, mse: np.exp(a + b * (x) + np.sqrt(x) + (mse/2))),\n",
    "                'expow3'    : (lambda a, b, c, d, e, x, mse: np.exp(a + b * (x) + (x) + (mse/2))),\n",
    "                'expow4'    : (lambda a, b, c, d, e, x, mse: np.exp(a + b * (x) + (x**2) + (mse/2)))}\n",
    "\n",
    "    return(eq_dict)\n",
    "\n",
    "eq_dict = mcpherson_eqs()\n",
    "\n",
    "# The cooeficients\n",
    "coef_df = pd.read_csv('TS6_Growth_coefficients.csvx',\n",
    "usecols=['Region', 'Scientific Name', 'Independent variable', 'Predicts component ', 'EqName', 'Units of predicted components',\n",
    "'EqName', 'a', 'b', 'c', 'd', 'e', 'Apps min', 'Apps max'])\n",
    "\n",
    "# Find all the trees with over 100 occurances in the dataset\n",
    "trees = la.Name_matched.value_counts()\n",
    "trees = list(trees.where(trees > 100).dropna().index)\n",
    "\n",
    "# drop trees we do not have equations for\n",
    "trees = [s for s in trees if s in coef_df['Scientific Name'].unique()]\n",
    "la = la.loc[la.Name_matched.isin(trees)]\n",
    "\n",
    "la.info()"
   ]
  },
  {
   "cell_type": "markdown",
   "metadata": {},
   "source": [
    "## Accessing Lidar data ## \n",
    "We will be using the ```USGS_LPC_CA_LosAngeles_2016_LAS_2018``` dataset.  The USGS lidar data is hosted in an Amazon S3 bucket, so we will need the AWS client to access it."
   ]
  },
  {
   "cell_type": "code",
   "execution_count": 4,
   "metadata": {},
   "outputs": [],
   "source": [
    "#!curl \"https://s3.amazonaws.com/aws-cli/awscli-bundle.zip\" -o \"awscli-bundle.zip\"\n",
    "#!unzip awscli-bundle.zip \n",
    "#!./awscli-bundle/install -b ~/bin/aws"
   ]
  },
  {
   "cell_type": "markdown",
   "metadata": {},
   "source": [
    "Let's make a tmp directory too, if we don't already have one."
   ]
  },
  {
   "cell_type": "code",
   "execution_count": 5,
   "metadata": {},
   "outputs": [
    {
     "name": "stdout",
     "output_type": "stream",
     "text": [
      "mkdir: cannot create directory ‘/home/jovyan/tmp’: File exists\n"
     ]
    }
   ],
   "source": [
    "# make a tmp directory\n",
    "\n",
    "!mkdir ~/tmp\n",
    "\n",
    "# make a variable for its path\n",
    "tmp = f'{home}/tmp'\n",
    "\n",
    "# make a variable with the path to aws cli\n",
    "aws = '~/bin/aws'"
   ]
  },
  {
   "cell_type": "markdown",
   "metadata": {},
   "source": [
    "### Fetching the ept metadata ###\n",
    "The top level ept json for the ```USGS_LPC_CA_LosAngeles_2016_LAS_2018``` dataset contains important metadata. We will download it."
   ]
  },
  {
   "cell_type": "code",
   "execution_count": 6,
   "metadata": {},
   "outputs": [
    {
     "data": {
      "text/plain": [
       "CompletedProcess(args='~/bin/aws s3 cp s3://usgs-lidar-public/USGS_LPC_CA_LosAngeles_2016_LAS_2018/ept.json /home/jovyan/tmp --no-sign-request', returncode=0, stdout=b'Completed 2.4 KiB/2.4 KiB (8.5 KiB/s) with 1 file(s) remaining\\rdownload: s3://usgs-lidar-public/USGS_LPC_CA_LosAngeles_2016_LAS_2018/ept.json to ../tmp/ept.json\\n', stderr=b'')"
      ]
     },
     "execution_count": 6,
     "metadata": {},
     "output_type": "execute_result"
    }
   ],
   "source": [
    "import subprocess\n",
    "cmd = f'{aws} s3 cp s3://usgs-lidar-public/USGS_LPC_CA_LosAngeles_2016_LAS_2018/ept.json {tmp} --no-sign-request'\n",
    "subprocess.run(cmd, shell=True, capture_output=True)"
   ]
  },
  {
   "cell_type": "markdown",
   "metadata": {},
   "source": [
    "We will load ```ept.json``` and extract usefull information."
   ]
  },
  {
   "cell_type": "code",
   "execution_count": 60,
   "metadata": {},
   "outputs": [
    {
     "name": "stdout",
     "output_type": "stream",
     "text": [
      "dataType is: laszip\n",
      "hierarchyType is: json\n",
      "srs is:\n",
      "{'authority': 'EPSG', 'horizontal': '3857', 'wkt': 'PROJCS[\"WGS 84 / Pseudo-Mercator\",GEOGCS[\"WGS 84\",DATUM[\"WGS_1984\",SPHEROID[\"WGS 84\",6378137,298.257223563,AUTHORITY[\"EPSG\",\"7030\"]],AUTHORITY[\"EPSG\",\"6326\"]],PRIMEM[\"Greenwich\",0,AUTHORITY[\"EPSG\",\"8901\"]],UNIT[\"degree\",0.0174532925199433,AUTHORITY[\"EPSG\",\"9122\"]],AUTHORITY[\"EPSG\",\"4326\"]],PROJECTION[\"Mercator_1SP\"],PARAMETER[\"central_meridian\",0],PARAMETER[\"scale_factor\",1],PARAMETER[\"false_easting\",0],PARAMETER[\"false_northing\",0],UNIT[\"metre\",1,AUTHORITY[\"EPSG\",\"9001\"]],AXIS[\"X\",EAST],AXIS[\"Y\",NORTH],EXTENSION[\"PROJ4\",\"+proj=merc +a=6378137 +b=6378137 +lat_ts=0.0 +lon_0=0.0 +x_0=0.0 +y_0=0 +k=1.0 +units=m +nadgrids=@null +wktext +no_defs\"],AUTHORITY[\"EPSG\",\"3857\"]]'}\n"
     ]
    }
   ],
   "source": [
    "import json\n",
    "with open(f'{tmp}/ept.json') as f:\n",
    "    meta = json.load(f)\n",
    "    \n",
    "bounds = meta['bounds']\n",
    "bounds_conf = meta['boundsConforming']\n",
    "srs = meta['srs']\n",
    "span   = meta['span']\n",
    "schema  = meta['schema']\n",
    "dataType = meta['dataType']\n",
    "hierarchyType = meta['hierarchyType']\n",
    "\n",
    "def bag_scale_offset(name, schema):\n",
    "    '''Retruns scale and offset for the spatial dimension given by name'''\n",
    "    for thing in schema:\n",
    "        if thing['name'] == name:\n",
    "            return(thing['scale'], thing['offset'])\n",
    "        \n",
    "x_scale, x_offset = bag_scale_offset('X', schema)\n",
    "y_scale, y_offset = bag_scale_offset('Y', schema)\n",
    "z_scale, z_offset = bag_scale_offset('Z', schema)\n",
    "\n",
    "#print some info\n",
    "print(f'dataType is: {dataType}\\nhierarchyType is: {hierarchyType}\\nsrs is:\\n{srs}')"
   ]
  },
  {
   "cell_type": "markdown",
   "metadata": {},
   "source": [
    "The above output tells us the data is in EPSG:3857.  There is only a horizontal code present.  Lets reduce the srs to a more useful form for later"
   ]
  },
  {
   "cell_type": "code",
   "execution_count": 61,
   "metadata": {},
   "outputs": [
    {
     "data": {
      "text/plain": [
       "'EPSG:3857'"
      ]
     },
     "execution_count": 61,
     "metadata": {},
     "output_type": "execute_result"
    }
   ],
   "source": [
    "srs = meta['srs']['authority'] + ':' + meta['srs']['horizontal']\n",
    "srs"
   ]
  },
  {
   "cell_type": "markdown",
   "metadata": {},
   "source": [
    "Because the srs is in Pseudo-Mercator (EPSG:3857), and our data is lat, lon (EPSG:4326) We will have to reproject. "
   ]
  },
  {
   "cell_type": "markdown",
   "metadata": {},
   "source": [
    "### Querying data ###\n",
    "Now it should be possible to define a bounding box around a tree to query the ept."
   ]
  },
  {
   "cell_type": "code",
   "execution_count": 62,
   "metadata": {},
   "outputs": [],
   "source": [
    "from osgeo import osr\n",
    "\n",
    "# For now we will ad 0.00007 degrees in each direction, this is jus a guess based on 5th decimal place ~ 1.1m\n",
    "# also not setting z max and min for the moment\n",
    "def make_scaled_bbox(lat, lon, bounds=None):\n",
    "    '''Returns a bbox in ept coords.\n",
    "    If present bounds is of form [xmin, ymin, zmin, xmax, ymax, zmax]'''\n",
    "    # make the bbox in EPSG:4326\n",
    "    [xmin, xmax], [ymin, ymax] = make_bbox(lat, lon)\n",
    "    \n",
    "    # define transform from EPSG:4326 to EPSG:3857\n",
    "    old_crs = osr.SpatialReference() \n",
    "    old_crs.ImportFromEPSG(4326) \n",
    "    new_crs = osr.SpatialReference() \n",
    "    new_crs.ImportFromEPSG(3857)\n",
    "    transform = osr.CoordinateTransformation(old_crs,new_crs)\n",
    "    \n",
    "    # transform bbox points\n",
    "    xmin, ymin, zmin = transform.TransformPoint(ymin, xmin)\n",
    "    xmax, ymax, zmax = transform.TransformPoint(ymax, xmax)\n",
    "\n",
    "    # TODO:make sure no bbox is out of the ept bbox, for edge cases\n",
    "    # if bounds:\n",
    "        #blah for blah in blah\n",
    "    \n",
    "    return([xmin, xmax], [ymin, ymax])\n",
    "\n",
    "def make_bbox(lat, lon):\n",
    "    buf = 0.00007\n",
    "    xmin = lon - buf\n",
    "    ymin = lat - buf\n",
    "    xmax = lon + buf\n",
    "    ymax = lat + buf\n",
    "    return([xmin, xmax], [ymin, ymax])\n",
    "\n",
    "def bbox_geojson(lat, lon, filename):\n",
    "    '''makes wgs84 bbox as geojson for comparison in gis'''\n",
    "    [xmin, xmax], [ymin, ymax] = make_bbox(lat, lon)\n",
    "    gjson = {'coordinates' : [[[xmin, ymin], [xmin, ymax], [xmax, ymax], [xmax, ymin]]],\n",
    "            'type' : 'Polygon'}\n",
    "    with open(filename, 'w') as of:\n",
    "        json.dump(gjson, of)"
   ]
  },
  {
   "cell_type": "code",
   "execution_count": 12,
   "metadata": {},
   "outputs": [],
   "source": [
    "#pip install pdal"
   ]
  },
  {
   "cell_type": "markdown",
   "metadata": {},
   "source": [
    "Now lets try to get the point cloud within the bbox using PDALs ept reader"
   ]
  },
  {
   "cell_type": "code",
   "execution_count": 13,
   "metadata": {},
   "outputs": [],
   "source": [
    "import pdal\n",
    "from string import Template"
   ]
  },
  {
   "cell_type": "markdown",
   "metadata": {},
   "source": [
    "To test things out we will select a single tree.  ```id``` is the uniqued ID for the tree in the dataset"
   ]
  },
  {
   "cell_type": "code",
   "execution_count": 152,
   "metadata": {},
   "outputs": [],
   "source": [
    "# get the lat, lon of point from dataset\n",
    "uid = 2181656\n",
    "lat = la.loc[la.ID==uid]['LATITUDE'].values[0]\n",
    "lon = la.loc[la.ID==uid]['LONGITUDE'].values[0]\n",
    "species = la.loc[la.ID==uid]['Name_matched'].values[0]\n",
    "\n",
    "# get bbox coords in EPSG:4326\n",
    "[xmin, xmax], [ymin, ymax] = make_bbox(lat, lon)\n",
    "\n",
    "# make geojson of bbox in EPSG:4326\n",
    "bbox_geojson(lat, lon, f'bbox_{id}.json')\n",
    "\n",
    "# make transformed bbox\n",
    "scaled_bbox = make_scaled_bbox(lat, lon, bounds=bounds)"
   ]
  },
  {
   "cell_type": "code",
   "execution_count": 159,
   "metadata": {},
   "outputs": [
    {
     "data": {
      "text/plain": [
       "'Ulmus parvifolia'"
      ]
     },
     "execution_count": 159,
     "metadata": {},
     "output_type": "execute_result"
    }
   ],
   "source": [
    "species\n",
    "# UTM11 is EPSG:26911"
   ]
  },
  {
   "cell_type": "code",
   "execution_count": 154,
   "metadata": {},
   "outputs": [],
   "source": [
    "# make and validate pipeline\n",
    "t = Template('''\n",
    "{\n",
    "    \"pipeline\": [\n",
    "        {\n",
    "        \"bounds\": \"${scaled_bbox}\",\n",
    "        \"filename\": \"https://s3-us-west-2.amazonaws.com/usgs-lidar-public/USGS_LPC_CA_LosAngeles_2016_LAS_2018/ept.json\",\n",
    "        \"type\": \"readers.ept\",\n",
    "        \"tag\": \"readdata\",\n",
    "        \"spatialreference\":\"${srs}\"\n",
    "        },\n",
    "        {\n",
    "        \"type\":\"filters.outlier\",\n",
    "        \"method\":\"radius\",\n",
    "        \"radius\":1.0,\n",
    "        \"min_k\":4\n",
    "        },\n",
    "        {\n",
    "        \"type\": \"filters.reprojection\",\n",
    "        \"in_srs\":\"${srs}\",\n",
    "        \"out_srs\": \"EPSG:26911\"\n",
    "        },\n",
    "        {\n",
    "        \"filename\": \"dsm${uid}.tif\",\n",
    "        \"gdalopts\": \"tiled=yes,     compress=deflate\",\n",
    "        \"nodata\": -9999,\n",
    "        \"output_type\": \"idw\",\n",
    "        \"resolution\": 1,\n",
    "        \"type\": \"writers.gdal\",\n",
    "        \"window_size\": 6\n",
    "        },\n",
    "        {\n",
    "        \"type\":\"filters.smrf\",\n",
    "        \"scalar\":1.2,\n",
    "        \"slope\":0.2,\n",
    "        \"threshold\":0.45,\n",
    "        \"window\":16.0\n",
    "        },\n",
    "        {\n",
    "        \"type\":\"filters.hag_delaunay\"\n",
    "        },\n",
    "        {\n",
    "        \"filename\": \"chm${uid}.tif\",\n",
    "        \"gdalopts\": \"tiled=yes,     compress=deflate\",\n",
    "        \"nodata\": -9999,\n",
    "        \"output_type\": \"idw\",\n",
    "        \"resolution\": 1,\n",
    "        \"type\": \"writers.gdal\",\n",
    "        \"window_size\": 6,\n",
    "        \"dimension\": \"HeightAboveGround\"\n",
    "        }\n",
    "    ]\n",
    "}''')\n",
    "\n",
    "pipe = t.substitute(scaled_bbox=scaled_bbox, srs=srs, bbox=bbox, uid=uid)"
   ]
  },
  {
   "cell_type": "code",
   "execution_count": 155,
   "metadata": {},
   "outputs": [],
   "source": [
    "pipeline = pdal.Pipeline(pipe)"
   ]
  },
  {
   "cell_type": "code",
   "execution_count": 156,
   "metadata": {},
   "outputs": [
    {
     "data": {
      "text/plain": [
       "True"
      ]
     },
     "execution_count": 156,
     "metadata": {},
     "output_type": "execute_result"
    }
   ],
   "source": [
    "pipeline.validate()"
   ]
  },
  {
   "cell_type": "code",
   "execution_count": 157,
   "metadata": {},
   "outputs": [],
   "source": [
    "count = pipeline.execute()"
   ]
  },
  {
   "cell_type": "code",
   "execution_count": 158,
   "metadata": {},
   "outputs": [
    {
     "data": {
      "text/plain": [
       "1694"
      ]
     },
     "execution_count": 158,
     "metadata": {},
     "output_type": "execute_result"
    }
   ],
   "source": [
    "count"
   ]
  },
  {
   "cell_type": "code",
   "execution_count": 188,
   "metadata": {},
   "outputs": [
    {
     "data": {
      "text/plain": [
       "array([(8, 1, 0, 1.35500602e+08, 448, 1, 4397, 599, 1, 6., 0, 0, 0, 371172.4740487 , 3770101.19563006, 73.39, 11.74536149),\n",
       "       (0, 2, 0, 1.39906530e+08, 672, 1, 4397, 401, 1, 0., 0, 1, 0, 371172.75382964, 3770101.64577229, 61.57,  0.        ),\n",
       "       (8, 7, 0, 1.35500602e+08, 704, 2, 4397, 599, 1, 6., 0, 1, 0, 371172.37368599, 3770109.02989164, 68.52,  6.77512558),\n",
       "       (8, 7, 0, 1.35500602e+08, 944, 3, 4397, 599, 1, 6., 0, 1, 0, 371174.46243239, 3770108.96836512, 70.95,  9.33109817)],\n",
       "      dtype=[('ClassFlags', 'u1'), ('Classification', 'u1'), ('EdgeOfFlightLine', 'u1'), ('GpsTime', '<f8'), ('Intensity', '<u2'), ('NumberOfReturns', 'u1'), ('OriginId', '<u4'), ('PointSourceId', '<u2'), ('ReturnNumber', 'u1'), ('ScanAngleRank', '<f4'), ('ScanChannel', 'u1'), ('ScanDirectionFlag', 'u1'), ('UserData', 'u1'), ('X', '<f8'), ('Y', '<f8'), ('Z', '<f8'), ('HeightAboveGround', '<f8')])"
      ]
     },
     "execution_count": 188,
     "metadata": {},
     "output_type": "execute_result"
    }
   ],
   "source": [
    "S = pipeline.arrays[0]\n",
    "metadata = pipeline.metadata\n",
    "log = pipeline.log\n",
    "S[:4]"
   ]
  },
  {
   "cell_type": "markdown",
   "metadata": {},
   "source": [
    "So, the pipline made a DSM for the query box.  We also now have the returns in an np structured array, ```S```."
   ]
  },
  {
   "cell_type": "markdown",
   "metadata": {},
   "source": [
    "Look at a histogaram of _hag_"
   ]
  },
  {
   "cell_type": "code",
   "execution_count": 189,
   "metadata": {},
   "outputs": [],
   "source": [
    "veg = S[S['Classification']!=2]\n",
    "h = veg['HeightAboveGround'].flatten()"
   ]
  },
  {
   "cell_type": "code",
   "execution_count": 191,
   "metadata": {},
   "outputs": [
    {
     "data": {
      "image/png": "[encoded data removed]",
      "text/plain": [
       "<Figure size 432x288 with 1 Axes>"
      ]
     },
     "metadata": {
      "needs_background": "light"
     },
     "output_type": "display_data"
    }
   ],
   "source": [
    "import matplotlib.pyplot as plt\n",
    "\n",
    "plt.hist(h, bins=100);"
   ]
  },
  {
   "cell_type": "markdown",
   "metadata": {},
   "source": [
    "In the historgram above there are a bunch of < 2m returns.  Here is a (huge) picture of the tree (uid = 2181656) from Google street view.  \n",
    "<img src=\"streetView_2181656.png\">\n",
    "\n",
    "It seems like those < 2m returns must be from parked cars, or some kind of noise, or some other not-useful thing. Parked cars a re a likely culprit, and they will be trivky to deal with in a systematic way.  For now I am going to just ditch returns below 2m. On small trees this may end up causing issues, we'll see. "
   ]
  },
  {
   "cell_type": "code",
   "execution_count": 192,
   "metadata": {},
   "outputs": [
    {
     "data": {
      "image/png": "[encoded data removed]",
      "text/plain": [
       "<Figure size 432x288 with 1 Axes>"
      ]
     },
     "metadata": {
      "needs_background": "light"
     },
     "output_type": "display_data"
    }
   ],
   "source": [
    "veg = S[S['HeightAboveGround']>2]\n",
    "h = veg['HeightAboveGround'].flatten()\n",
    "plt.hist(h, bins=100);"
   ]
  },
  {
   "cell_type": "markdown",
   "metadata": {},
   "source": [
    "Good, that looks like half a tree lying on its side!  Next, I write more functions solidifying the work we have done above to make it easiert o do to many trees.  Lets also add some new dimensions to the points using some filters in the PDAL pipeline."
   ]
  },
  {
   "cell_type": "code",
   "execution_count": 195,
   "metadata": {},
   "outputs": [
    {
     "data": {
      "text/plain": [
       "([-13179790.511252984, -13179774.926524274],\n",
       " [4037353.636790961, 4037372.449497106])"
      ]
     },
     "execution_count": 195,
     "metadata": {},
     "output_type": "execute_result"
    }
   ],
   "source": [
    "scaled_bbox"
   ]
  },
  {
   "cell_type": "code",
   "execution_count": 213,
   "metadata": {},
   "outputs": [],
   "source": [
    "def make_pipe(bbox, uid, dsm_path, chm_path, srs='EPSG:3857'):\n",
    "    '''Creates, validates and then returns the pdal pipeline\n",
    "    \n",
    "    Arguments:\n",
    "    bbox     -- Bounding box in srs coordintes (default srs is EPSG:3857),\n",
    "                in the form: ([xmin, xmax], [ymin, ymax]).\n",
    "    uid      -- int - ID of the desired tree in the dataframe.\n",
    "    dsm_path -- String - Path where the DSM shall be saved. Must include .tif exstension.\n",
    "    chm_path -- String - Path where the CHM shall be saved. Must include .tif exstension.\n",
    "    srs      -- String - EPSG identifier for srs  being used. Defaults to EPSG:3857\n",
    "                because that is what ept files tend to use.\n",
    "    '''\n",
    "    \n",
    "    t = Template('''\n",
    "    {\n",
    "        \"pipeline\": [\n",
    "            {\n",
    "            \"bounds\": \"${scaled_bbox}\",\n",
    "            \"filename\": \"https://s3-us-west-2.amazonaws.com/usgs-lidar-public/USGS_LPC_CA_LosAngeles_2016_LAS_2018/ept.json\",\n",
    "            \"type\": \"readers.ept\",\n",
    "            \"tag\": \"readdata\",\n",
    "            \"spatialreference\":\"${srs}\"\n",
    "            },\n",
    "            {\n",
    "            \"type\":\"filters.outlier\",\n",
    "            \"method\":\"radius\",\n",
    "            \"radius\":1.0,\n",
    "            \"min_k\":4\n",
    "            },\n",
    "            {\n",
    "            \"type\": \"filters.reprojection\",\n",
    "            \"in_srs\":\"${srs}\",\n",
    "            \"out_srs\": \"EPSG:26911\"\n",
    "            },\n",
    "            {\n",
    "            \"filename\": \"${dsm_path}\",\n",
    "            \"gdalopts\": \"tiled=yes,     compress=deflate\",\n",
    "            \"nodata\": -9999,\n",
    "            \"output_type\": \"idw\",\n",
    "            \"resolution\": 1,\n",
    "            \"type\": \"writers.gdal\",\n",
    "            \"window_size\": 6\n",
    "            },\n",
    "            {\n",
    "            \"type\":\"filters.smrf\",\n",
    "            \"scalar\":1.2,\n",
    "            \"slope\":0.2,\n",
    "            \"threshold\":0.45,\n",
    "            \"window\":16.0\n",
    "            },\n",
    "            {\n",
    "            \"type\":\"filters.hag_delaunay\"\n",
    "            },\n",
    "            {\n",
    "            \"filename\": \"${chm_path}\",\n",
    "            \"gdalopts\": \"tiled=yes,     compress=deflate\",\n",
    "            \"nodata\": -9999,\n",
    "            \"output_type\": \"idw\",\n",
    "            \"resolution\": 1,\n",
    "            \"type\": \"writers.gdal\",\n",
    "            \"window_size\": 6,\n",
    "            \"dimension\": \"HeightAboveGround\"\n",
    "            },\n",
    "            {\n",
    "            \"type\":\"filters.optimalneighborhood\",\n",
    "            \"min_k\":8,\n",
    "            \"max_k\": 50\n",
    "            },\n",
    "            {\n",
    "            \"type\":\"filters.covariancefeatures\",\n",
    "            \"knn\":10,\n",
    "            \"threads\": 2,\n",
    "            \"feature_set\": \"all\"\n",
    "            }\n",
    "        ]\n",
    "    }''')\n",
    "\n",
    "    pipe = t.substitute(scaled_bbox=bbox, srs=srs, uid=uid, dsm_path=dsm_path, chm_path=chm_path)\n",
    "    pipeline = pdal.Pipeline(pipe)\n",
    "    if pipeline.validate():\n",
    "        return(pipeline)\n",
    "    else:\n",
    "        raise Exception('Bad pipeline (sorry to be so ambigous)!')"
   ]
  },
  {
   "cell_type": "code",
   "execution_count": 214,
   "metadata": {},
   "outputs": [],
   "source": [
    "dsm_path = f'{tmp}/dsm{uid}.tif'\n",
    "chm_path = f'{tmp}/chm{uid}.tif'\n",
    "\n",
    "\n",
    "pipeline = make_pipe(scaled_bbox, uid, dsm_path, chm_path)\n",
    "count = pipeline.execute()\n",
    "S = pipeline.arrays[0]\n",
    "metadata = pipeline.metadata\n",
    "log = pipeline.log\n",
    "veg = S[(S['Classification']!=2) & (S['HeightAboveGround']>2)]\n",
    "\n",
    "veg = veg[['Intensity',\n",
    "           'NumberOfReturns',\n",
    "           'ReturnNumber',\n",
    "           'X',\n",
    "           'Y',\n",
    "           'HeightAboveGround',\n",
    "           'OptimalKNN',\n",
    "           'OptimalRadius', \n",
    "           'Linearity', \n",
    "           'Planarity', \n",
    "           'Scattering', \n",
    "           'Verticality', \n",
    "           'Omnivariance', \n",
    "           'Anisotropy', \n",
    "           'Eigenentropy', \n",
    "           'EigenvalueSum', \n",
    "           'SurfaceVariation', \n",
    "           'DemantkeVerticality',\n",
    "           'Density' ]]"
   ]
  },
  {
   "cell_type": "code",
   "execution_count": 229,
   "metadata": {},
   "outputs": [
    {
     "data": {
      "text/plain": [
       "array([(704, 2, 1, 371172.37368599, 3770109.02989164, 6.77512558, 12, 1.24837542, 0.56563733, 0.22378176, 0.2105809 , 0.48895991, 0.31828026, 0.7894191 , 0.89147867, 0.61528104, 0.24176754, 0.1298645, 2.12695282),\n",
       "       (944, 3, 1, 371174.46243239, 3770108.96836512, 9.33109817, 25, 2.41958434, 0.26101786, 0.31986395, 0.41911819, 0.42116246, 0.53647624, 0.58088181, 0.86329228, 1.08249346, 0.3069999 , 0.0715693, 0.58425331)],\n",
       "      dtype={'names':['Intensity','NumberOfReturns','ReturnNumber','X','Y','HeightAboveGround','OptimalKNN','OptimalRadius','Linearity','Planarity','Scattering','Verticality','Omnivariance','Anisotropy','Eigenentropy','EigenvalueSum','SurfaceVariation','DemantkeVerticality','Density'], 'formats':['<u2','u1','u1','<f8','<f8','<f8','<u8','<f8','<f8','<f8','<f8','<f8','<f8','<f8','<f8','<f8','<f8','<f8','<f8'], 'offsets':[11,13,20,28,36,52,60,68,76,84,92,100,108,116,124,132,140,148,156], 'itemsize':164})"
      ]
     },
     "execution_count": 229,
     "metadata": {},
     "output_type": "execute_result"
    }
   ],
   "source": [
    "veg[:2]"
   ]
  },
  {
   "cell_type": "markdown",
   "metadata": {},
   "source": [
    "Make it a dataframe for convenience."
   ]
  },
  {
   "cell_type": "code",
   "execution_count": 228,
   "metadata": {},
   "outputs": [
    {
     "data": {
      "text/html": [
       "<div>\n",
       "<style scoped>\n",
       "    .dataframe tbody tr th:only-of-type {\n",
       "        vertical-align: middle;\n",
       "    }\n",
       "\n",
       "    .dataframe tbody tr th {\n",
       "        vertical-align: top;\n",
       "    }\n",
       "\n",
       "    .dataframe thead th {\n",
       "        text-align: right;\n",
       "    }\n",
       "</style>\n",
       "<table border=\"1\" class=\"dataframe\">\n",
       "  <thead>\n",
       "    <tr style=\"text-align: right;\">\n",
       "      <th></th>\n",
       "      <th>Intensity</th>\n",
       "      <th>NumberOfReturns</th>\n",
       "      <th>ReturnNumber</th>\n",
       "      <th>X</th>\n",
       "      <th>Y</th>\n",
       "      <th>HeightAboveGround</th>\n",
       "      <th>OptimalKNN</th>\n",
       "      <th>OptimalRadius</th>\n",
       "      <th>Linearity</th>\n",
       "      <th>Planarity</th>\n",
       "      <th>Scattering</th>\n",
       "      <th>Verticality</th>\n",
       "      <th>Omnivariance</th>\n",
       "      <th>Anisotropy</th>\n",
       "      <th>Eigenentropy</th>\n",
       "      <th>EigenvalueSum</th>\n",
       "      <th>SurfaceVariation</th>\n",
       "      <th>DemantkeVerticality</th>\n",
       "      <th>Density</th>\n",
       "    </tr>\n",
       "  </thead>\n",
       "  <tbody>\n",
       "    <tr>\n",
       "      <th>0</th>\n",
       "      <td>704</td>\n",
       "      <td>2</td>\n",
       "      <td>1</td>\n",
       "      <td>371172.373686</td>\n",
       "      <td>3.770109e+06</td>\n",
       "      <td>6.775126</td>\n",
       "      <td>12</td>\n",
       "      <td>1.248375</td>\n",
       "      <td>0.565637</td>\n",
       "      <td>0.223782</td>\n",
       "      <td>0.210581</td>\n",
       "      <td>0.488960</td>\n",
       "      <td>0.318280</td>\n",
       "      <td>0.789419</td>\n",
       "      <td>0.891479</td>\n",
       "      <td>0.615281</td>\n",
       "      <td>0.241768</td>\n",
       "      <td>0.129864</td>\n",
       "      <td>2.126953</td>\n",
       "    </tr>\n",
       "    <tr>\n",
       "      <th>1</th>\n",
       "      <td>944</td>\n",
       "      <td>3</td>\n",
       "      <td>1</td>\n",
       "      <td>371174.462432</td>\n",
       "      <td>3.770109e+06</td>\n",
       "      <td>9.331098</td>\n",
       "      <td>25</td>\n",
       "      <td>2.419584</td>\n",
       "      <td>0.261018</td>\n",
       "      <td>0.319864</td>\n",
       "      <td>0.419118</td>\n",
       "      <td>0.421162</td>\n",
       "      <td>0.536476</td>\n",
       "      <td>0.580882</td>\n",
       "      <td>0.863292</td>\n",
       "      <td>1.082493</td>\n",
       "      <td>0.307000</td>\n",
       "      <td>0.071569</td>\n",
       "      <td>0.584253</td>\n",
       "    </tr>\n",
       "    <tr>\n",
       "      <th>2</th>\n",
       "      <td>304</td>\n",
       "      <td>3</td>\n",
       "      <td>2</td>\n",
       "      <td>371176.054990</td>\n",
       "      <td>3.770109e+06</td>\n",
       "      <td>7.426579</td>\n",
       "      <td>10</td>\n",
       "      <td>1.436255</td>\n",
       "      <td>0.417064</td>\n",
       "      <td>0.184485</td>\n",
       "      <td>0.398452</td>\n",
       "      <td>0.609515</td>\n",
       "      <td>0.545021</td>\n",
       "      <td>0.601548</td>\n",
       "      <td>0.815383</td>\n",
       "      <td>1.178079</td>\n",
       "      <td>0.299881</td>\n",
       "      <td>0.544097</td>\n",
       "      <td>1.181811</td>\n",
       "    </tr>\n",
       "    <tr>\n",
       "      <th>3</th>\n",
       "      <td>448</td>\n",
       "      <td>3</td>\n",
       "      <td>2</td>\n",
       "      <td>371177.589289</td>\n",
       "      <td>3.770109e+06</td>\n",
       "      <td>6.108150</td>\n",
       "      <td>11</td>\n",
       "      <td>2.147480</td>\n",
       "      <td>0.517312</td>\n",
       "      <td>0.139054</td>\n",
       "      <td>0.343633</td>\n",
       "      <td>0.577823</td>\n",
       "      <td>0.608409</td>\n",
       "      <td>0.656367</td>\n",
       "      <td>0.589603</td>\n",
       "      <td>1.656640</td>\n",
       "      <td>0.229690</td>\n",
       "      <td>0.877665</td>\n",
       "      <td>0.385695</td>\n",
       "    </tr>\n",
       "    <tr>\n",
       "      <th>4</th>\n",
       "      <td>304</td>\n",
       "      <td>2</td>\n",
       "      <td>1</td>\n",
       "      <td>371178.501353</td>\n",
       "      <td>3.770109e+06</td>\n",
       "      <td>6.167059</td>\n",
       "      <td>15</td>\n",
       "      <td>2.970785</td>\n",
       "      <td>0.411183</td>\n",
       "      <td>0.298590</td>\n",
       "      <td>0.290228</td>\n",
       "      <td>0.451709</td>\n",
       "      <td>0.705393</td>\n",
       "      <td>0.709772</td>\n",
       "      <td>0.279773</td>\n",
       "      <td>2.312085</td>\n",
       "      <td>0.159561</td>\n",
       "      <td>0.630699</td>\n",
       "      <td>0.194248</td>\n",
       "    </tr>\n",
       "  </tbody>\n",
       "</table>\n",
       "</div>"
      ],
      "text/plain": [
       "   Intensity  NumberOfReturns  ReturnNumber              X             Y  \\\n",
       "0        704                2             1  371172.373686  3.770109e+06   \n",
       "1        944                3             1  371174.462432  3.770109e+06   \n",
       "2        304                3             2  371176.054990  3.770109e+06   \n",
       "3        448                3             2  371177.589289  3.770109e+06   \n",
       "4        304                2             1  371178.501353  3.770109e+06   \n",
       "\n",
       "   HeightAboveGround  OptimalKNN  OptimalRadius  Linearity  Planarity  \\\n",
       "0           6.775126          12       1.248375   0.565637   0.223782   \n",
       "1           9.331098          25       2.419584   0.261018   0.319864   \n",
       "2           7.426579          10       1.436255   0.417064   0.184485   \n",
       "3           6.108150          11       2.147480   0.517312   0.139054   \n",
       "4           6.167059          15       2.970785   0.411183   0.298590   \n",
       "\n",
       "   Scattering  Verticality  Omnivariance  Anisotropy  Eigenentropy  \\\n",
       "0    0.210581     0.488960      0.318280    0.789419      0.891479   \n",
       "1    0.419118     0.421162      0.536476    0.580882      0.863292   \n",
       "2    0.398452     0.609515      0.545021    0.601548      0.815383   \n",
       "3    0.343633     0.577823      0.608409    0.656367      0.589603   \n",
       "4    0.290228     0.451709      0.705393    0.709772      0.279773   \n",
       "\n",
       "   EigenvalueSum  SurfaceVariation  DemantkeVerticality   Density  \n",
       "0       0.615281          0.241768             0.129864  2.126953  \n",
       "1       1.082493          0.307000             0.071569  0.584253  \n",
       "2       1.178079          0.299881             0.544097  1.181811  \n",
       "3       1.656640          0.229690             0.877665  0.385695  \n",
       "4       2.312085          0.159561             0.630699  0.194248  "
      ]
     },
     "execution_count": 228,
     "metadata": {},
     "output_type": "execute_result"
    }
   ],
   "source": [
    "df = pd.DataFrame(veg)\n",
    "df.head()"
   ]
  },
  {
   "cell_type": "markdown",
   "metadata": {},
   "source": [
    "Find the centroid of highest n points. Then change x and y to be relative to the centroid. Compute radius from that centroid."
   ]
  },
  {
   "cell_type": "code",
   "execution_count": 253,
   "metadata": {},
   "outputs": [],
   "source": [
    "n = 5\n",
    "tops = df[['X', 'Y', 'HeightAboveGround']].sort_values(ascending=False, by='HeightAboveGround')\n",
    "x = tops.head(n).X.mean()\n",
    "y = tops.head(n).Y.mean()\n",
    "\n",
    "df['X'] = df.X - x\n",
    "df['Y'] = df.Y - y\n",
    "df['r'] = np.sqrt(df.X**2 + df.Y**2)\n",
    "df.sort_values(ascending=True, by='r', inplace=True)\n"
   ]
  },
  {
   "cell_type": "markdown",
   "metadata": {},
   "source": [
    "Lets see if there is an obvious trend between r and height."
   ]
  },
  {
   "cell_type": "code",
   "execution_count": 254,
   "metadata": {},
   "outputs": [
    {
     "data": {
      "image/png": "[encoded data removed]",
      "text/plain": [
       "<Figure size 432x288 with 1 Axes>"
      ]
     },
     "metadata": {
      "needs_background": "light"
     },
     "output_type": "display_data"
    }
   ],
   "source": [
    "df.plot.scatter(x='r', y='HeightAboveGround');"
   ]
  },
  {
   "cell_type": "markdown",
   "metadata": {},
   "source": [
    "Not really.  Make a tiny dataset in the region."
   ]
  },
  {
   "cell_type": "code",
   "execution_count": 255,
   "metadata": {},
   "outputs": [],
   "source": [
    "uids = [2181656, 2181657, 2181697, 2181698, 2181699, 2184893]\n",
    "tiny_data = la.loc[la.ID.isin(uids)]"
   ]
  },
  {
   "cell_type": "markdown",
   "metadata": {},
   "source": [
    "Make a loop of it and parrallelize it etc... "
   ]
  },
  {
   "cell_type": "code",
   "execution_count": 259,
   "metadata": {},
   "outputs": [
    {
     "name": "stdout",
     "output_type": "stream",
     "text": [
      "[########################################] | 100% Completed | 16.2s\n"
     ]
    }
   ],
   "source": [
    "#from tqdm import tqdm\n",
    "from dask import delayed\n",
    "from dask import compute\n",
    "from dask.diagnostics import ProgressBar\n",
    "\n",
    "\n",
    "@delayed\n",
    "def row_bounds_ept_query(data, idx):\n",
    "    # get lat lon of first entry\n",
    "    row = data.iloc[idx]\n",
    "    uid = row['ID']\n",
    "    lat = row['LATITUDE']\n",
    "    lon = row['LONGITUDE']\n",
    "\n",
    "    # make bbox in EPSG:3857\n",
    "    scaled_bbox = make_scaled_bbox(lat, lon, bounds=bounds_conf)\n",
    "    \n",
    "    # sanity check will raise erros if scalled bbox is not in the ept bounds\n",
    "    assert (scaled_bbox[0][0] > bounds[0]) & (scaled_bbox[0][1] < bounds[3])\n",
    "    assert (scaled_bbox[1][0] > bounds[1]) & (scaled_bbox[1][1] < bounds[4])\n",
    "    \n",
    "    # make and validate pipeline\n",
    "    dsm_path = f'{tmp}/dsm{uid}.tif'\n",
    "    chm_path = f'{tmp}/chm{uid}.tif'\n",
    "\n",
    "    # make and validate pipeline\n",
    "    pipeline = make_pipe(scaled_bbox, uid, dsm_path, chm_path)\n",
    "    \n",
    "    # execute the piepline\n",
    "    count = pipeline.execute()\n",
    "    S = pipeline.arrays[0]\n",
    "    metadata = pipeline.metadata\n",
    "    log = pipeline.log\n",
    "    \n",
    "    #Trim the pointcloud to what we want to use\n",
    "    veg = S[(S['Classification']!=2) & (S['HeightAboveGround']>2)]\n",
    "\n",
    "    # do stuff\n",
    "    trim = count - veg.shape[0]\n",
    "    count = veg.shape[0]\n",
    "    if count > 0:\n",
    "        # make it a dataframe\n",
    "        df = pd.DataFrame(veg)\n",
    "        # find the centroid of highest n points. \n",
    "        n = 5\n",
    "        tops = df[['X', 'Y', 'HeightAboveGround']].sort_values(ascending=False, by='HeightAboveGround')\n",
    "        x = tops.head(n).X.mean()\n",
    "        y = tops.head(n).Y.mean()\n",
    "        # change x and y to be relative to the centroid. Compute radius from that centroid.\n",
    "        df['X'] = df.X - x\n",
    "        df['Y'] = df.Y - y\n",
    "        df['r'] = np.sqrt(df.X**2 + df.Y**2)\n",
    "        # sort by r\n",
    "        df.sort_values(ascending=True, by='r', inplace=True)\n",
    "        \n",
    "        return(df)\n",
    "        \n",
    "results = []\n",
    "for i in range(len(tiny_data)):\n",
    "    results.append(row_bounds_ept_query(tiny_data, i))\n",
    "    \n",
    "with ProgressBar():\n",
    "    S = compute(*results)"
   ]
  },
  {
   "cell_type": "code",
   "execution_count": 260,
   "metadata": {},
   "outputs": [
    {
     "data": {
      "text/plain": [
       "5"
      ]
     },
     "execution_count": 260,
     "metadata": {},
     "output_type": "execute_result"
    }
   ],
   "source": [
    "len(S)"
   ]
  },
  {
   "cell_type": "code",
   "execution_count": 261,
   "metadata": {},
   "outputs": [
    {
     "data": {
      "image/png": "[encoded data removed]",
      "text/plain": [
       "<Figure size 432x288 with 1 Axes>"
      ]
     },
     "metadata": {
      "needs_background": "light"
     },
     "output_type": "display_data"
    }
   ],
   "source": [
    "S[1].plot.scatter(x='r', y='HeightAboveGround');"
   ]
  },
  {
   "cell_type": "code",
   "execution_count": 262,
   "metadata": {},
   "outputs": [
    {
     "data": {
      "image/png": "[encoded data removed]",
      "text/plain": [
       "<Figure size 432x288 with 1 Axes>"
      ]
     },
     "metadata": {
      "needs_background": "light"
     },
     "output_type": "display_data"
    }
   ],
   "source": [
    "S[2].plot.scatter(x='r', y='HeightAboveGround');"
   ]
  },
  {
   "cell_type": "code",
   "execution_count": 263,
   "metadata": {},
   "outputs": [
    {
     "data": {
      "image/png": "[encoded data removed]",
      "text/plain": [
       "<Figure size 432x288 with 1 Axes>"
      ]
     },
     "metadata": {
      "needs_background": "light"
     },
     "output_type": "display_data"
    }
   ],
   "source": [
    "S[3].plot.scatter(x='r', y='HeightAboveGround');"
   ]
  },
  {
   "cell_type": "code",
   "execution_count": 264,
   "metadata": {},
   "outputs": [
    {
     "data": {
      "image/png": "[encoded data removed]",
      "text/plain": [
       "<Figure size 432x288 with 1 Axes>"
      ]
     },
     "metadata": {
      "needs_background": "light"
     },
     "output_type": "display_data"
    }
   ],
   "source": [
    "S[4].plot.scatter(x='r', y='HeightAboveGround');"
   ]
  },
  {
   "cell_type": "code",
   "execution_count": null,
   "metadata": {},
   "outputs": [],
   "source": []
  }
 ],
 "metadata": {
  "kernelspec": {
   "display_name": "Python 3",
   "language": "python",
   "name": "python3"
  },
  "language_info": {
   "codemirror_mode": {
    "name": "ipython",
    "version": 3
   },
   "file_extension": ".py",
   "mimetype": "text/x-python",
   "name": "python",
   "nbconvert_exporter": "python",
   "pygments_lexer": "ipython3",
   "version": "3.8.6"
  }
 },
 "nbformat": 4,
 "nbformat_minor": 4
}
