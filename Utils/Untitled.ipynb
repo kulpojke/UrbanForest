{
 "cells": [
  {
   "cell_type": "code",
   "execution_count": 1,
   "metadata": {},
   "outputs": [],
   "source": [
    "import fiona\n",
    "import rasterio\n",
    "import rasterio.mask\n",
    "from rasterio.plot import show\n",
    "from rasterio.warp import calculate_default_transform, reproject, Resampling\n",
    "\n",
    "import geopandas as gpd\n",
    "\n",
    "import numpy as np\n",
    "import os"
   ]
  },
  {
   "cell_type": "code",
   "execution_count": 11,
   "metadata": {},
   "outputs": [],
   "source": [
    "\n",
    "urb = '/home/jovyan/UrbanForest'\n",
    "image_path = os.path.join(urb, 'santa_monica_4bandNAIP_mosaic_originwarp.tiff')\n",
    "shape_path = os.path.join(urb, 'santa_monica_bbox/santa_monica_bbox.shp')\n",
    "crs = 'EPSG:4326'"
   ]
  },
  {
   "cell_type": "code",
   "execution_count": 18,
   "metadata": {},
   "outputs": [
    {
     "name": "stdout",
     "output_type": "stream",
     "text": [
      "epsg:4326 v EPSG:26911\n"
     ]
    }
   ],
   "source": [
    "def clip_raster(image_path, shape_path, out_path, out_crs=None):\n",
    "    '''clips image with shp'''\n",
    "    \n",
    "    # ensure files conform to the desired crs\n",
    "    image_path, shape_path = checkFix_proj(image_path, shape_path, out_crs)\n",
    "    \n",
    "    # read the shape\n",
    "    with fiona.open(shape_path, 'r') as shp:\n",
    "        geoms = [feature['geometry'] for feature in shp]\n",
    "    \n",
    "    # read the tif\n",
    "    with rasterio.open(image_path) as src:\n",
    "        out_image, out_transform = rasterio.mask.mask(src, geoms, crop=True)\n",
    "        out_meta = src.meta\n",
    "    \n",
    "    # write clipped file\n",
    "    out_meta.update({'driver': 'GTiff', 'height': out_image.shape[1],\n",
    "                     'width': out_image.shape[2], 'transform': out_transform})\n",
    "    \n",
    "    with rasterio.open(out_path, 'w', **out_meta) as dst:\n",
    "        dst.write(out_image)\n",
    "\n",
    "def checkFix_proj(image_path, shape_path, crs=None):\n",
    "    '''Checks to make sure the crs is the same for image and shape.\n",
    "    If they are not the same, transforms shp to the image crs, or optionaly,\n",
    "    ensures both are in specified crs.\n",
    "    image_path -- str - path to tiff.\n",
    "    shape_path -- str - path to shapefile.\n",
    "    crs        -- str - crs to be used. If None, uses img crs.\n",
    "    '''\n",
    "    # housecleaning supplies\n",
    "    shp_path, img_path = shape_path, image_path\n",
    "    skip = False\n",
    "    global del_dir\n",
    "    del_dir = False\n",
    "    \n",
    "    # open the files and determine what crs to use\n",
    "    shp = gpd.read_file(shape_path)\n",
    "    with rasterio.open(image_path) as img:\n",
    "        if crs == None:\n",
    "            crs = img.crs\n",
    "            crs = crs.to_string()\n",
    "            skip = True\n",
    "\n",
    "    # transform shp if necessary and write to file\n",
    "    print(f'{shp.crs} v {crs}')\n",
    "    if shp.crs != crs:\n",
    "        # make the path to write transformed img to\n",
    "        if not os.path.isdir('tmp'):\n",
    "            os.mkdir('tmp')\n",
    "            del_dir = True\n",
    "        shp_path = 'tmp/shp_tranformed.shp'\n",
    "            \n",
    "        # transform and write\n",
    "        shp = shp.to_crs(crs)\n",
    "        shp.to_file(filename=shp_path)\n",
    "    # transform the image if necessary\n",
    "    if not skip:\n",
    "\n",
    "        # make the path to write transformed img to\n",
    "        if not os.path.isdir('tmp'):\n",
    "            os.mkdir('tmp')\n",
    "            del_dir = True\n",
    "        img_path = 'tmp/img_tranformed.tif'\n",
    "        \n",
    "        # transform and write img\n",
    "        with rasterio.open(image_path) as img:\n",
    "            transform, width, height = calculate_default_transform(img.crs, crs, img.width, img.height, *img.bounds)\n",
    "            kwargs = img.meta.copy()\n",
    "            kwargs.update({'crs' : crs, 'transform': transform, 'width': width, 'height': height})\n",
    "            with rasterio.open(img_path, 'w', **kwargs) as dst:\n",
    "                for band in range(1, img.count + 1):\n",
    "                    reproject(\n",
    "                        source=rasterio.band(img, band),\n",
    "                        destination=rasterio.band(dst, band),\n",
    "                        src_transform=img.transform,\n",
    "                        src_crs=img.crs,\n",
    "                        dst_transform=transform,\n",
    "                        dst_crs=crs,\n",
    "                        resampling=Resampling.nearest)\n",
    "        \n",
    "        return(img_path, shp_path)\n",
    "    \n",
    "    else:\n",
    "        return(None)\n",
    "\n",
    "checkFix_proj(image_path, shape_path)"
   ]
  },
  {
   "cell_type": "code",
   "execution_count": null,
   "metadata": {},
   "outputs": [],
   "source": [
    "clip_raster(image_path, shape_path, out_path)"
   ]
  }
 ],
 "metadata": {
  "kernelspec": {
   "display_name": "Python 3",
   "language": "python",
   "name": "python3"
  },
  "language_info": {
   "codemirror_mode": {
    "name": "ipython",
    "version": 3
   },
   "file_extension": ".py",
   "mimetype": "text/x-python",
   "name": "python",
   "nbconvert_exporter": "python",
   "pygments_lexer": "ipython3",
   "version": "3.8.8"
  }
 },
 "nbformat": 4,
 "nbformat_minor": 4
}
