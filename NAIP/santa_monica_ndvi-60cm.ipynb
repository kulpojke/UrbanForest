{
 "cells": [
  {
   "cell_type": "markdown",
   "metadata": {},
   "source": [
    "first ```conda install -c conda-forge rioxarray```"
   ]
  },
  {
   "cell_type": "code",
   "execution_count": 2,
   "metadata": {},
   "outputs": [],
   "source": [
    "import os\n",
    "import matplotlib.pyplot as plt\n",
    "import numpy as np\n",
    "import rasterio as rio\n",
    "#import rioxarray as rxr\n",
    "from rasterio.windows import Window\n",
    "import geopandas as gpd\n",
    "import earthpy as et\n",
    "import earthpy.spatial as es\n",
    "import earthpy.plot as ep\n",
    "import xarray as xr"
   ]
  },
  {
   "cell_type": "markdown",
   "metadata": {},
   "source": [
    "### 2018 NAIP ###"
   ]
  },
  {
   "cell_type": "code",
   "execution_count": 4,
   "metadata": {},
   "outputs": [],
   "source": [
    "filepath = '/home/jovyan/UrbanForest'\n",
    "naip_path = os.path.join(filepath, 'santa_monica_4bandNAIP_mosaic_originwarp.tiff')"
   ]
  },
  {
   "cell_type": "markdown",
   "metadata": {},
   "source": [
    "Load data and get the profile"
   ]
  },
  {
   "cell_type": "code",
   "execution_count": 5,
   "metadata": {},
   "outputs": [
    {
     "data": {
      "text/plain": [
       "{'driver': 'GTiff', 'dtype': 'uint8', 'nodata': None, 'width': 19910, 'height': 23890, 'count': 4, 'crs': CRS.from_epsg(26911), 'transform': Affine(0.6, 0.0, 355548.0,\n",
       "       0.0, -0.6, 3770340.0), 'tiled': False, 'interleave': 'pixel'}"
      ]
     },
     "execution_count": 5,
     "metadata": {},
     "output_type": "execute_result"
    }
   ],
   "source": [
    "with rio.open(naip_path, 'r') as src:\n",
    "    profile = src.profile\n",
    "    data = src.read()\n",
    "profile"
   ]
  },
  {
   "cell_type": "code",
   "execution_count": 6,
   "metadata": {},
   "outputs": [
    {
     "data": {
      "text/plain": [
       "(4, 23890, 19910)"
      ]
     },
     "execution_count": 6,
     "metadata": {},
     "output_type": "execute_result"
    }
   ],
   "source": [
    "data.shape"
   ]
  },
  {
   "cell_type": "code",
   "execution_count": 7,
   "metadata": {},
   "outputs": [],
   "source": [
    "#!gdalinfo /home/jovyan/UrbanForest/santa_monica_4bandNAIP_mosaic_originwarp.tiff"
   ]
  },
  {
   "cell_type": "markdown",
   "metadata": {},
   "source": [
    "gdalinfo gives us:\n",
    "```\n",
    "Band 1 Block=11946x1 Type=Byte, ColorInterp=Red\n",
    "Band 2 Block=11946x1 Type=Byte, ColorInterp=Green\n",
    "Band 3 Block=11946x1 Type=Byte, ColorInterp=Blue\n",
    "Band 4 Block=11946x1 Type=Byte, ColorInterp=Undefined\n",
    "```\n",
    "\n",
    "In this case 4 is near IR."
   ]
  },
  {
   "cell_type": "markdown",
   "metadata": {},
   "source": [
    "Easier to teal with things in an xarray."
   ]
  },
  {
   "cell_type": "code",
   "execution_count": null,
   "metadata": {},
   "outputs": [],
   "source": [
    "xdata = xr.DataArray(data)\n",
    "xdata= xdata.where(data != np.inf)"
   ]
  },
  {
   "cell_type": "markdown",
   "metadata": {},
   "source": [
    "Calculate NDVI, fill the no value spots with -9"
   ]
  },
  {
   "cell_type": "code",
   "execution_count": null,
   "metadata": {},
   "outputs": [],
   "source": [
    "ndvi = es.normalized_diff(xdata[3], xdata[0])\n",
    "ndvi = ndvi.filled(-9)"
   ]
  },
  {
   "cell_type": "markdown",
   "metadata": {},
   "source": [
    "Plot the NDVI."
   ]
  },
  {
   "cell_type": "code",
   "execution_count": null,
   "metadata": {},
   "outputs": [],
   "source": [
    "ep.plot_bands(ndvi, cmap='PiYG', scale=False, vmin=-1, vmax=1, title='NDVI 2018, Santa Monica +, CA');"
   ]
  },
  {
   "cell_type": "markdown",
   "metadata": {},
   "source": [
    "Examine histogram to determine a good cuttoff value for the mask."
   ]
  },
  {
   "cell_type": "code",
   "execution_count": null,
   "metadata": {},
   "outputs": [],
   "source": [
    "import matplotlib.pyplot as plt\n",
    "ax = plt.hist(ndvi[ndvi > -8], bins=200);"
   ]
  },
  {
   "cell_type": "markdown",
   "metadata": {},
   "source": [
    "It looks like the bottom bump is water, the middle bump is built environment and the upper bumb is vegetation.  Lets use 0.25 as a cuttoff for masking. the CHM.  But first we will write a geotiff of ndvi."
   ]
  },
  {
   "cell_type": "code",
   "execution_count": null,
   "metadata": {},
   "outputs": [],
   "source": [
    "thresh = 0.25\n",
    "mask = ndvi > thresh\n",
    "rio.dtypes.can_cast_dtype(mask, 'uint8')"
   ]
  },
  {
   "cell_type": "code",
   "execution_count": null,
   "metadata": {},
   "outputs": [],
   "source": [
    "mask_file = f'mask_{str(thresh)}.tif'\n",
    "profile['count'] = 1\n",
    "#mask = mask.reshape(1, 14334, 11946)\n",
    "\n",
    "with rio.open(mask_file, 'w', **profile) as dst:\n",
    "    dst.write(mask.astype(rio.uint8))"
   ]
  },
  {
   "cell_type": "markdown",
   "metadata": {},
   "source": [
    "import fiona\n",
    "from pyproj import Proj, transform\n",
    "from fiona.crs import from_epsg\n",
    "\n",
    "original = Proj(shape.crs) # EPSG:4326 in your case\n",
    "destination = Proj(init='EPSG:...') # your new EPSG\n",
    "with fiona.open('new.shp', 'w', 'ESRI Shapefile', shape.schema.copy(), crs=from_epsg(...)) as output:\n",
    "    for feat in shape:\n",
    "        long,lat =  feat['geometry']['coordinates']\n",
    "        x,y = transform(original, destination,long,lat)\n",
    "        # change only the coordinates of the feature\n",
    "        feat['geometry']['coordinates'] = (x,y)\n",
    "        output.write(feat)\n",
    "\n",
    "outfile = 'santa_monica_4bandNAIP_mosaic_originwarp_1m_ndvi.tif'\n",
    "chm_path = f'{filepath}/santa_monica_mosaic_35mlimit_originwarp.tiff'\n",
    "extent_path = os.path.join(filepath, 'santa_monica_bbox', 'santa_monica_bbox.shp')\n",
    "\n",
    "with fiona.open(extent_path, \"r\") as shapefile:\n",
    "    shapes = [feature[\"geometry\"] for feature in shapefile]\n",
    "    \n",
    "\n",
    "with rio.open(mask_file, 'r') as mask:\n",
    "    with rio.open(chm_path, 'r') as src:\n",
    "        cropped_image, cropped_transform = rio.mask.mask(src, shapes, crop=True)\n",
    "        meta = src.meta\n",
    "        print(type(mask.read() * cropped_image.read()))"
   ]
  },
  {
   "cell_type": "markdown",
   "metadata": {},
   "source": [
    "I cropped the mask in qgis"
   ]
  },
  {
   "cell_type": "code",
   "execution_count": null,
   "metadata": {},
   "outputs": [],
   "source": [
    "import subprocess"
   ]
  },
  {
   "cell_type": "code",
   "execution_count": null,
   "metadata": {},
   "outputs": [],
   "source": [
    "tmp = '/home/jovyan/tmp'\n",
    "os.makedirs(tmp, exist_ok=True)\n",
    "\n",
    "chm_path = f'{filepath}/santa_monica_mosaic_60cm.tiff'\n",
    "alligned_mask = f'{tmp}/alligned_mask.tif'\n",
    "cropped_mask = f'{tmp}/cropped_mask.tif'\n",
    "\n",
    "cmd = f'gdaltindex {tmp}clipper.shp {chm_path}'\n",
    "subprocess.run(cmd, shell=True, capture_output=True)\n",
    "\n",
    "cmd = f'gdalwarp -tr 1 1 -tap {mask_file} {alligned_mask}'\n",
    "subprocess.run(cmd, shell=True, capture_output=True)\n",
    "\n",
    "cmd = f'gdalwarp -cutline {tmp}/clipper.shp -crop_to_cutline {alligned_mask} {cropped_mask}'\n",
    "subprocess.run(cmd, shell=True, capture_output=True)\n"
   ]
  },
  {
   "cell_type": "code",
   "execution_count": 15,
   "metadata": {},
   "outputs": [],
   "source": [
    "masked = 'santa_monica_mosaic_60cm_NDVI_thresh25_masked.tiff'\n",
    "\n",
    "with rio.open(cropped_mask, 'r') as mask:\n",
    "    with rio.open(chm_path, 'r') as src:\n",
    "        masked_arr = mask.read() * src.read()\n",
    "        profile = src.profile\n",
    "        with rio.open(masked, 'w', **profile) as dst:\n",
    "            dst.write(masked_arr) "
   ]
  }
 ],
 "metadata": {
  "kernelspec": {
   "display_name": "Python 3",
   "language": "python",
   "name": "python3"
  },
  "language_info": {
   "codemirror_mode": {
    "name": "ipython",
    "version": 3
   },
   "file_extension": ".py",
   "mimetype": "text/x-python",
   "name": "python",
   "nbconvert_exporter": "python",
   "pygments_lexer": "ipython3",
   "version": "3.8.6"
  }
 },
 "nbformat": 4,
 "nbformat_minor": 4
}
